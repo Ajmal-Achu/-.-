{
  "nbformat": 4,
  "nbformat_minor": 0,
  "metadata": {
    "colab": {
      "provenance": [],
      "authorship_tag": "ABX9TyMDobhRd2S3XlBB4l9vqgcf",
      "include_colab_link": true
    },
    "kernelspec": {
      "name": "python3",
      "display_name": "Python 3"
    },
    "language_info": {
      "name": "python"
    }
  },
  "cells": [
    {
      "cell_type": "markdown",
      "metadata": {
        "id": "view-in-github",
        "colab_type": "text"
      },
      "source": [
        "<a href=\"https://colab.research.google.com/github/Ajmal-Achu/-.-/blob/master/LAB2.ipynb\" target=\"_parent\"><img src=\"https://colab.research.google.com/assets/colab-badge.svg\" alt=\"Open In Colab\"/></a>"
      ]
    },
    {
      "cell_type": "code",
      "execution_count": 4,
      "metadata": {
        "colab": {
          "base_uri": "https://localhost:8080/"
        },
        "id": "vBo_w6_-Fy8t",
        "outputId": "4b4e75d3-f8d9-499e-c214-78045023a893"
      },
      "outputs": [
        {
          "output_type": "stream",
          "name": "stdout",
          "text": [
            "HelloWorld\n",
            "World\n"
          ]
        }
      ],
      "source": [
        "string1 = \"Hello\"\n",
        "string2 = \"World\"\n",
        "concatnate = string1+string2\n",
        "print(concatnate)\n",
        "substring=concatnate[5:]\n",
        "print(substring)"
      ]
    },
    {
      "cell_type": "code",
      "source": [
        "import datetime\n",
        "time = datetime.datetime.now()\n",
        "print(time)"
      ],
      "metadata": {
        "id": "Vqh4KdkcHhnV"
      },
      "execution_count": null,
      "outputs": []
    }
  ]
}